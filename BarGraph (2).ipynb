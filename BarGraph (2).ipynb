{
  "nbformat": 4,
  "nbformat_minor": 0,
  "metadata": {
    "colab": {
      "name": "BarGraph.ipynb",
      "provenance": []
    },
    "kernelspec": {
      "name": "python3",
      "display_name": "Python 3"
    }
  },
  "cells": [
    {
      "cell_type": "code",
      "metadata": {
        "id": "aiu-WKWdChSi"
      },
      "source": [
        "import matplotlib.pyplot as plt"
      ],
      "execution_count": 1,
      "outputs": []
    },
    {
      "cell_type": "code",
      "metadata": {
        "colab": {
          "base_uri": "https://localhost:8080/",
          "height": 295
        },
        "id": "GY6WuXt5EXe8",
        "outputId": "d5ac5de0-f661-4d08-e5a2-21db85a64867"
      },
      "source": [
        "x = [\"science\", \"commerce\",\"arts\"]\r\n",
        "h = [200, 300, 500]\r\n",
        "w=  [0.5,0.2,0.7]\r\n",
        "b = [100,200,300]\r\n",
        "colors =['red','green', 'yellow']\r\n",
        "plt.bar(x , h, width=0.5, bottom=None, label=\"Bar graph\", color=colors, align='center', linewidth=2, edgecolor='blue' )\r\n",
        "plt.xlabel(\"Courcese\")\r\n",
        "plt.ylabel(\"Students Enrolled\")\r\n",
        "plt.title(\"Student Enrollement\")\r\n",
        "\r\n",
        "plt.legend()\r\n",
        "plt.show()"
      ],
      "execution_count": 37,
      "outputs": [
        {
          "output_type": "display_data",
          "data": {
            "image/png": "[encoded data removed]",
            "text/plain": [
              "<Figure size 432x288 with 1 Axes>"
            ]
          },
          "metadata": {
            "tags": [],
            "needs_background": "light"
          }
        }
      ]
    },
    {
      "cell_type": "markdown",
      "metadata": {
        "id": "Hzp1McKNE94W"
      },
      "source": [
        ""
      ]
    }
  ]
}